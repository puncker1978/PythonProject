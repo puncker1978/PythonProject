{
  "nbformat": 4,
  "nbformat_minor": 0,
  "metadata": {
    "colab": {
      "provenance": [],
      "authorship_tag": "ABX9TyNJoMMweu/vsy4QxILx0cw1",
      "include_colab_link": true
    },
    "kernelspec": {
      "name": "python3",
      "display_name": "Python 3"
    },
    "language_info": {
      "name": "python"
    }
  },
  "cells": [
    {
      "cell_type": "markdown",
      "metadata": {
        "id": "view-in-github",
        "colab_type": "text"
      },
      "source": [
        "<a href=\"https://colab.research.google.com/github/puncker1978/PythonProject/blob/main/3.ipynb\" target=\"_parent\"><img src=\"https://colab.research.google.com/assets/colab-badge.svg\" alt=\"Open In Colab\"/></a>"
      ]
    },
    {
      "cell_type": "markdown",
      "source": [
        "Задание 1:\n",
        "Напишите код, который выведет числа от 1 до 5, разделяя их символом *."
      ],
      "metadata": {
        "id": "Vi2vx6ALhrnG"
      }
    },
    {
      "cell_type": "code",
      "source": [
        "print('1', '2', '3', '4', '5', sep = \"*\")"
      ],
      "metadata": {
        "colab": {
          "base_uri": "https://localhost:8080/"
        },
        "id": "pDardSzehzkE",
        "outputId": "cf8fb15e-1ec7-48f3-fb6b-2ae6b7e8e2cd"
      },
      "execution_count": 6,
      "outputs": [
        {
          "output_type": "stream",
          "name": "stdout",
          "text": [
            "1*2*3*4*5\n"
          ]
        }
      ]
    },
    {
      "cell_type": "markdown",
      "source": [
        "Задание 2:\n",
        "Напишите код, который выведет две строки текста, но в одну строчку, разделив их знаком --."
      ],
      "metadata": {
        "id": "wfHqBr22j5od"
      }
    },
    {
      "cell_type": "code",
      "source": [
        "print(\"Первая строка\", \"Вторая строка\", sep = \"--\")"
      ],
      "metadata": {
        "colab": {
          "base_uri": "https://localhost:8080/"
        },
        "id": "AUGcqawgj6sq",
        "outputId": "099a6778-018e-4b66-faa3-3e1962e16bf9"
      },
      "execution_count": 8,
      "outputs": [
        {
          "output_type": "stream",
          "name": "stdout",
          "text": [
            "Первая строка--Вторая строка\n"
          ]
        }
      ]
    },
    {
      "cell_type": "markdown",
      "source": [
        "Задание 3:\n",
        "Напишите код, который выведет текст \"Python\", а затем перенесет вывод на три новые строки, а затем выведет \"Java\"."
      ],
      "metadata": {
        "id": "r4vuwANwkhXV"
      }
    },
    {
      "cell_type": "code",
      "source": [
        "print('Python')\n",
        "print()\n",
        "print()\n",
        "print()\n",
        "print('C#')"
      ],
      "metadata": {
        "colab": {
          "base_uri": "https://localhost:8080/"
        },
        "id": "Kbsq06SIknSk",
        "outputId": "093b26d4-dad3-433a-fd76-b4163821aa4a"
      },
      "execution_count": 9,
      "outputs": [
        {
          "output_type": "stream",
          "name": "stdout",
          "text": [
            "Python\n",
            "\n",
            "\n",
            "\n",
            "C#\n"
          ]
        }
      ]
    }
  ]
}